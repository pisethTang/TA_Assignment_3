{
 "cells": [
  {
   "cell_type": "markdown",
   "id": "c6296a7b",
   "metadata": {},
   "source": [
    "<font color=\"yellow\"><b><u>NOTES:</u></b></font>\n",
    "\n",
    "<p>Just like in the previous exercise, this will act as a playground for testing and controlling the outputs of each algorithms and their running times.</p>"
   ]
  },
  {
   "cell_type": "code",
   "execution_count": 7,
   "id": "f75d162e",
   "metadata": {},
   "outputs": [],
   "source": [
    "import ioh \n",
    "import numpy as np\n",
    "from typing import Callable\n",
    "from pathlib import Path"
   ]
  },
  {
   "cell_type": "code",
   "execution_count": 8,
   "id": "356c6aa7",
   "metadata": {},
   "outputs": [],
   "source": [
    "# add parent directory to path for imports\n",
    "import sys\n",
    "import os\n",
    "import time \n",
    "\n",
    "# Add the path to sys.path\n",
    "code_path = os.path.abspath('../final/code')\n",
    "if code_path not in sys.path:\n",
    "    sys.path.insert(0, code_path)"
   ]
  },
  {
   "cell_type": "code",
   "execution_count": 9,
   "id": "c19dda03",
   "metadata": {},
   "outputs": [],
   "source": [
    "from algorithms import OnePlusOneEA, RandomizedLocalSearch, DesignedGA  \n",
    "from utilities.utilities import ensure_dir \n",
    "from utilities import config "
   ]
  },
  {
   "cell_type": "markdown",
   "id": "853577a0",
   "metadata": {},
   "source": [
    "<p>In this assignment, we consider 3 graph-based problems:</p>\n",
    "\n",
    "\n",
    "1. Max Coverage: Given an undirected weighted graph $G = (V, E)$ with a cost function $c: V \\to \\R_{\\geq 0}$. We denote $N(V') = \\{v_i\\hspace{1mm}|\\hspace{1mm}\\exists e \\in E: \\{e\\} \\cap V\\ \\neq \\empty \\text{ and } \\}$, the set of all nodes of $V'$ and their neighbors in $G$. Our goal is to maximize $f(x) = |N(V'(x))|$ under the constaint that $c(x) \\leq B$ holds, where $B$ is a given fixed budget (fitness evaluations).\n",
    "2. Max Influence: \n",
    "3. Pack While Travel: "
   ]
  },
  {
   "cell_type": "markdown",
   "id": "27999d2f",
   "metadata": {},
   "source": [
    "<p>Although we consider 3 problems, we will actually work with 11 instances of those problems! That is, according to the assignment specification, we will deal with the following instances:</p>\n",
    "\n",
    "\n",
    "<ol>\n",
    "<li>Max Coverage: 2100, 2101, 2102, 2103</li>\n",
    "<li>Max Influence: 2200, 2201, 2202, 2203</li>\n",
    "<li>PackWhileTravel: 2300, 2301, 2302</li>\n",
    "\n",
    "</ol>"
   ]
  },
  {
   "cell_type": "markdown",
   "id": "537e7a35",
   "metadata": {},
   "source": [
    "### <b><u>Exercise 1:</u></b>\n",
    "\n",
    "<p>Let us begin with the first exercise, which requires us to run RandomSearch, RLS, (1+1)-EA and our DesignedGA from Assignment 2 on the above (11) instances. This is doable ... after completing all 30 runs, where each run has a budget of 10K fitness evaluations, we arrive at the following, current, stats:</p>\n",
    "\n",
    "\n",
    "\n",
    "- Random Search ---> 244.76 seconds \n",
    "- (1+1)-EA ---> 354.18 seconds \n",
    "- RLS ---> 219.28 seconds\n",
    "- Designed GA ---> 5603.92 seconds\n"
   ]
  },
  {
   "cell_type": "markdown",
   "id": "a312c903",
   "metadata": {},
   "source": [
    "### Important Note About Timing Measurements\n",
    "\n",
    "**The times above were measured using `time.process_time()` which only captures CPU time, not actual elapsed time.**\n",
    "\n",
    "This means:\n",
    "- Times can vary significantly between runs due to system load\n",
    "- Doesn't account for I/O operations or waiting time\n",
    "- Not reliable for comparing performance across different environments (main script vs notebook)\n",
    "\n",
    "**For accurate comparisons, we've now switched to `time.perf_counter()` which measures actual wall-clock time.**"
   ]
  },
  {
   "cell_type": "code",
   "execution_count": 10,
   "id": "76522203",
   "metadata": {},
   "outputs": [
    {
     "name": "stdout",
     "output_type": "stream",
     "text": [
      "Algorithm\t\t\t\tTime (minutes)\n",
      "Random Search       \t\t           4.08\n",
      "(1+1)-EA            \t\t          59.24\n",
      "RLS                 \t\t           3.65\n",
      "Designed GA         \t\t          93.40\n"
     ]
    }
   ],
   "source": [
    "First_run_times = [244.76, 3554.18, 219.28, 5603.92]\n",
    "# convert to minutes \n",
    "First_run_times = [t / 60 for t in First_run_times]\n",
    "algorithms = [ \"Random Search\", \"(1+1)-EA\", \"RLS\", \"Designed GA\"]\n",
    "print(f\"Algorithm\\t\\t\\t\\tTime (minutes)\")\n",
    "for alg, t in zip(algorithms, First_run_times):\n",
    "    print(f\"{alg:<20}\\t\\t{t:>15.2f}\")"
   ]
  },
  {
   "cell_type": "code",
   "execution_count": 11,
   "id": "92440429",
   "metadata": {},
   "outputs": [
    {
     "name": "stdout",
     "output_type": "stream",
     "text": [
      "Total time for all algorithms: 2 hours and 40 minutes\n"
     ]
    }
   ],
   "source": [
    "# convert to hours and minutes \n",
    "total_time = sum(First_run_times) / 60\n",
    "hours = int(total_time)\n",
    "minutes = int((total_time - hours) * 60)\n",
    "print(f\"Total time for all algorithms: {hours} hours and {minutes} minutes\")"
   ]
  },
  {
   "cell_type": "code",
   "execution_count": 14,
   "id": "cf54a2c7",
   "metadata": {},
   "outputs": [
    {
     "data": {
      "text/plain": [
       "PosixPath('/home/sething2002/2025_S2/TA_Assignment_3/ideas/data')"
      ]
     },
     "execution_count": 14,
     "metadata": {},
     "output_type": "execute_result"
    }
   ],
   "source": [
    "elapsed_times = []\n",
    "# Get the directory where this notebook is located\n",
    "notebook_dir = Path.cwd() if 'ipykernel' in sys.modules else Path(__file__).parent\n",
    "out_base = ensure_dir(notebook_dir / \"data\")\n",
    "out_base"
   ]
  },
  {
   "cell_type": "code",
   "execution_count": 20,
   "id": "cbfbf70a",
   "metadata": {},
   "outputs": [],
   "source": [
    "Algorithms = config.ALGORITHMS\n",
    "Dimension = config.DIMENSION\n",
    "Budget = config.BUDGET\n",
    "Repetitions = config.REPETITIONS\n",
    "Instances = config.PROBLEM_IDS"
   ]
  },
  {
   "cell_type": "markdown",
   "id": "3dba32bc",
   "metadata": {},
   "source": [
    "### Some changes I made to get the running times down ..."
   ]
  },
  {
   "cell_type": "markdown",
   "id": "7aae875f",
   "metadata": {},
   "source": [
    "### Random Search\n"
   ]
  },
  {
   "cell_type": "code",
   "execution_count": 21,
   "id": "c34b0bb0",
   "metadata": {},
   "outputs": [],
   "source": [
    "random_search = Algorithms[0]"
   ]
  },
  {
   "cell_type": "code",
   "execution_count": null,
   "id": "57db2749",
   "metadata": {},
   "outputs": [
    {
     "name": "stdout",
     "output_type": "stream",
     "text": [
      "=========== Running experiments for algorithm: Random Search ========== \n",
      "Time taken for Random Search: 4.79 minutes\n",
      "Time taken for Random Search: 4.79 minutes\n"
     ]
    }
   ],
   "source": [
    "print(f\"=========== Running experiments for algorithm: {random_search.name} ========== \")\n",
    "# start time - use perf_counter for wall-clock time\n",
    "start_time = time.perf_counter()\n",
    "# create a new experiment for the current algorithm \n",
    "experiment = ioh.Experiment(\n",
    "    algorithm=random_search,\n",
    "    algorithm_name=random_search.name,\n",
    "    algorithm_info=random_search.algorithm_info,\n",
    "    fids = config.PROBLEM_IDS,\n",
    "    iids = [1], \n",
    "    dims=[config.DIMENSION],\n",
    "    reps=config.REPETITIONS,\n",
    "    problem_class=config.PROBLEMS_TYPE,  # Use the configured problem class # type: ignore\n",
    "    old_logger=False,  # type: ignore\n",
    "    output_directory=str(out_base),\n",
    "    folder_name=f\"ioh-data-{random_search.name}\",\n",
    "    zip_output=True, \n",
    ")\n",
    "\n",
    "# run the experiment\n",
    "experiment.run()\n",
    "\n",
    "end_time = time.perf_counter()\n",
    "elapsed_time = end_time - start_time\n",
    "elapsed_times.append(elapsed_time)\n",
    "# convert to minutes\n",
    "elapsed_time_minutes = elapsed_time / 60\n",
    "print(f\"Time taken for {random_search.name}: {elapsed_time:.2f} seconds ({elapsed_time_minutes:.2f} minutes)\")"
   ]
  },
  {
   "cell_type": "code",
   "execution_count": null,
   "id": "3ede11a1",
   "metadata": {},
   "outputs": [],
   "source": []
  },
  {
   "cell_type": "markdown",
   "id": "a9460906",
   "metadata": {},
   "source": [
    "### RLS"
   ]
  },
  {
   "cell_type": "code",
   "execution_count": 22,
   "id": "38f8342b",
   "metadata": {},
   "outputs": [],
   "source": [
    "rls = Algorithms[2]"
   ]
  },
  {
   "cell_type": "code",
   "execution_count": null,
   "id": "04ca6479",
   "metadata": {},
   "outputs": [
    {
     "name": "stdout",
     "output_type": "stream",
     "text": [
      "=========== Running experiments for algorithm: Random Search ========== \n",
      "Time taken for Randomized Local Search: 4.16 minutes\n",
      "Time taken for Randomized Local Search: 4.16 minutes\n"
     ]
    }
   ],
   "source": [
    "print(f\"=========== Running experiments for algorithm: {rls.name} ========== \")\n",
    "# start time - use perf_counter for wall-clock time\n",
    "start_time = time.perf_counter()\n",
    "# create a new experiment for the current algorithm \n",
    "experiment = ioh.Experiment(\n",
    "    algorithm=rls,\n",
    "    algorithm_name=rls.name,\n",
    "    algorithm_info=rls.algorithm_info,\n",
    "    fids = config.PROBLEM_IDS,\n",
    "    iids = [1], \n",
    "    dims=[config.DIMENSION],\n",
    "    reps=config.REPETITIONS,\n",
    "    problem_class=config.PROBLEMS_TYPE,  # Use the configured problem class # type: ignore\n",
    "    old_logger=False,  # type: ignore\n",
    "    output_directory=str(out_base),\n",
    "    folder_name=f\"ioh-data-{rls.name}\",\n",
    "    zip_output=True, \n",
    ")\n",
    "\n",
    "# run the experiment\n",
    "experiment.run()\n",
    "\n",
    "end_time = time.perf_counter()\n",
    "elapsed_time = end_time - start_time\n",
    "elapsed_times.append(elapsed_time)\n",
    "# convert to minutes\n",
    "elapsed_time_minutes = elapsed_time / 60\n",
    "print(f\"Time taken for {rls.name}: {elapsed_time:.2f} seconds ({elapsed_time_minutes:.2f} minutes)\")"
   ]
  },
  {
   "cell_type": "code",
   "execution_count": 29,
   "id": "62f7d653",
   "metadata": {},
   "outputs": [
    {
     "name": "stdout",
     "output_type": "stream",
     "text": [
      "=========== Running experiments for algorithm: Randomized Local Search ========== \n",
      "Time taken for Randomized Local Search: 245.71 seconds (4.10 minutes)\n",
      "Time taken for Randomized Local Search: 245.71 seconds (4.10 minutes)\n"
     ]
    }
   ],
   "source": [
    "print(f\"=========== Running experiments for algorithm: {rls.name} ========== \")\n",
    "# start time - use perf_counter for wall-clock time\n",
    "start_time = time.perf_counter()\n",
    "# create a new experiment for the current algorithm \n",
    "experiment = ioh.Experiment(\n",
    "    algorithm=rls,\n",
    "    algorithm_name=rls.name,\n",
    "    algorithm_info=rls.algorithm_info,\n",
    "    fids = config.PROBLEM_IDS,\n",
    "    iids = [1], \n",
    "    dims=[config.DIMENSION],\n",
    "    reps=config.REPETITIONS,\n",
    "    problem_class=config.PROBLEMS_TYPE,  # Use the configured problem class # type: ignore\n",
    "    old_logger=False,  # type: ignore\n",
    "    output_directory=str(out_base),\n",
    "    folder_name=f\"ioh-data-{rls.name}\",\n",
    "    zip_output=True, \n",
    ")\n",
    "\n",
    "# run the experiment\n",
    "experiment.run()\n",
    "\n",
    "end_time = time.perf_counter()\n",
    "elapsed_time = end_time - start_time\n",
    "elapsed_times.append(elapsed_time)\n",
    "# convert to minutes\n",
    "elapsed_time_minutes = elapsed_time / 60\n",
    "print(f\"Time taken for {rls.name}: {elapsed_time:.2f} seconds ({elapsed_time_minutes:.2f} minutes)\")"
   ]
  },
  {
   "cell_type": "markdown",
   "id": "c1bd9cf7",
   "metadata": {},
   "source": [
    "### (1+1)-EA"
   ]
  },
  {
   "cell_type": "code",
   "execution_count": 24,
   "id": "08da4797",
   "metadata": {},
   "outputs": [],
   "source": [
    "OnePlusOneEA = Algorithms[1]"
   ]
  },
  {
   "cell_type": "code",
   "execution_count": null,
   "id": "e5de8c38",
   "metadata": {},
   "outputs": [
    {
     "name": "stdout",
     "output_type": "stream",
     "text": [
      "=========== Running experiments for algorithm: (1+1)_EA ========== \n",
      "Time taken for (1+1)_EA: 6.54 minutes\n",
      "Time taken for (1+1)_EA: 6.54 minutes\n"
     ]
    }
   ],
   "source": [
    "print(f\"=========== Running experiments for algorithm: {OnePlusOneEA.name} ========== \")\n",
    "# start time - use perf_counter for wall-clock time\n",
    "start_time = time.perf_counter()\n",
    "# create a new experiment for the current algorithm \n",
    "experiment = ioh.Experiment(\n",
    "    algorithm=OnePlusOneEA,\n",
    "    algorithm_name=OnePlusOneEA.name,\n",
    "    algorithm_info=OnePlusOneEA.algorithm_info,\n",
    "    fids = config.PROBLEM_IDS,\n",
    "    iids = [1], \n",
    "    dims=[config.DIMENSION],\n",
    "    reps=config.REPETITIONS,\n",
    "    problem_class=config.PROBLEMS_TYPE,  # Use the configured problem class # type: ignore\n",
    "    old_logger=False,  # type: ignore\n",
    "    output_directory=str(out_base),\n",
    "    folder_name=f\"ioh-data-{OnePlusOneEA.name}\",\n",
    "    zip_output=True, \n",
    ")\n",
    "\n",
    "# run the experiment\n",
    "experiment.run()\n",
    "\n",
    "end_time = time.perf_counter()\n",
    "elapsed_time = end_time - start_time\n",
    "elapsed_times.append(elapsed_time)\n",
    "# convert to minutes\n",
    "elapsed_time_minutes = elapsed_time / 60\n",
    "print(f\"Time taken for {OnePlusOneEA.name}: {elapsed_time:.2f} seconds ({elapsed_time_minutes:.2f} minutes)\")"
   ]
  },
  {
   "cell_type": "markdown",
   "id": "fbf5dde7",
   "metadata": {},
   "source": []
  },
  {
   "cell_type": "markdown",
   "id": "0bd6ec31",
   "metadata": {},
   "source": [
    "#### Pre-compute Binomial Samples"
   ]
  },
  {
   "cell_type": "code",
   "execution_count": 27,
   "id": "ccf5f5c4",
   "metadata": {},
   "outputs": [
    {
     "name": "stdout",
     "output_type": "stream",
     "text": [
      "=========== Running experiments for algorithm: (1+1)_EA with Binomial Sampling ========== \n",
      "Time taken for (1+1)_EA: 6.37 minutes\n"
     ]
    }
   ],
   "source": [
    "print(f\"=========== Running experiments for algorithm: {OnePlusOneEA.name} with Binomial Sampling ========== \")\n",
    "# start time \n",
    "start_time = time.process_time()\n",
    "# create a new experiment for the current algorithm \n",
    "experiment = ioh.Experiment(\n",
    "    algorithm=OnePlusOneEA,\n",
    "    algorithm_name=OnePlusOneEA.name,\n",
    "    algorithm_info=OnePlusOneEA.algorithm_info,\n",
    "    fids = config.PROBLEM_IDS,\n",
    "    iids = [1], \n",
    "    dims=[config.DIMENSION],\n",
    "    reps=config.REPETITIONS,\n",
    "    problem_class=config.PROBLEMS_TYPE,  # Use the configured problem class # type: ignore\n",
    "    old_logger=False,  # type: ignore\n",
    "    output_directory=str(out_base),\n",
    "    folder_name=f\"ioh-data-binomial-{OnePlusOneEA.name}\",\n",
    "    zip_output=True, \n",
    ")\n",
    "\n",
    "# run the experiment\n",
    "experiment.run()\n",
    "\n",
    "end_time = time.process_time()\n",
    "elapsed_time = end_time - start_time\n",
    "elapsed_times.append(elapsed_time)\n",
    "# convert to minutes\n",
    "elapsed_time = elapsed_time / 60\n",
    "print(f\"Time taken for {OnePlusOneEA.name}: {elapsed_time:.2f} minutes\")"
   ]
  },
  {
   "cell_type": "code",
   "execution_count": null,
   "id": "038736d5",
   "metadata": {},
   "outputs": [],
   "source": []
  },
  {
   "cell_type": "markdown",
   "id": "1ed86959",
   "metadata": {},
   "source": [
    "### Designed GA"
   ]
  },
  {
   "cell_type": "code",
   "execution_count": 30,
   "id": "888f3d72",
   "metadata": {},
   "outputs": [],
   "source": [
    "DesignedGA = Algorithms[3]"
   ]
  },
  {
   "cell_type": "code",
   "execution_count": 31,
   "id": "0bf96c35",
   "metadata": {},
   "outputs": [
    {
     "name": "stdout",
     "output_type": "stream",
     "text": [
      "=========== Running experiments for algorithm: Designed Genetic Algorithm with Binomial Sampling ========== \n"
     ]
    },
    {
     "ename": "KeyboardInterrupt",
     "evalue": "",
     "output_type": "error",
     "traceback": [
      "\u001b[0;31m---------------------------------------------------------------------------\u001b[0m",
      "\u001b[0;31mKeyboardInterrupt\u001b[0m                         Traceback (most recent call last)",
      "Cell \u001b[0;32mIn[31], line 21\u001b[0m\n\u001b[1;32m      5\u001b[0m experiment \u001b[38;5;241m=\u001b[39m ioh\u001b[38;5;241m.\u001b[39mExperiment(\n\u001b[1;32m      6\u001b[0m     algorithm\u001b[38;5;241m=\u001b[39mDesignedGA,\n\u001b[1;32m      7\u001b[0m     algorithm_name\u001b[38;5;241m=\u001b[39mDesignedGA\u001b[38;5;241m.\u001b[39mname,\n\u001b[0;32m   (...)\u001b[0m\n\u001b[1;32m     17\u001b[0m     zip_output\u001b[38;5;241m=\u001b[39m\u001b[38;5;28;01mTrue\u001b[39;00m, \n\u001b[1;32m     18\u001b[0m )\n\u001b[1;32m     20\u001b[0m \u001b[38;5;66;03m# run the experiment\u001b[39;00m\n\u001b[0;32m---> 21\u001b[0m \u001b[43mexperiment\u001b[49m\u001b[38;5;241;43m.\u001b[39;49m\u001b[43mrun\u001b[49m\u001b[43m(\u001b[49m\u001b[43m)\u001b[49m\n\u001b[1;32m     23\u001b[0m end_time \u001b[38;5;241m=\u001b[39m time\u001b[38;5;241m.\u001b[39mprocess_time()\n\u001b[1;32m     24\u001b[0m elapsed_time \u001b[38;5;241m=\u001b[39m end_time \u001b[38;5;241m-\u001b[39m start_time\n",
      "File \u001b[0;32m~/2025_S2/TA_Assignment_3/.venv/lib/python3.10/site-packages/ioh/__init__.py:597\u001b[0m, in \u001b[0;36mExperiment.run\u001b[0;34m(self)\u001b[0m\n\u001b[1;32m    594\u001b[0m \u001b[38;5;28;01mdef\u001b[39;00m\u001b[38;5;250m \u001b[39m\u001b[38;5;21mrun\u001b[39m(\u001b[38;5;28mself\u001b[39m):\n\u001b[1;32m    595\u001b[0m \u001b[38;5;250m    \u001b[39m\u001b[38;5;124;03m'''Alias for __call__'''\u001b[39;00m\n\u001b[0;32m--> 597\u001b[0m     \u001b[38;5;28;01mreturn\u001b[39;00m \u001b[38;5;28;43mself\u001b[39;49m\u001b[43m(\u001b[49m\u001b[43m)\u001b[49m\n",
      "File \u001b[0;32m~/2025_S2/TA_Assignment_3/.venv/lib/python3.10/site-packages/ioh/__init__.py:609\u001b[0m, in \u001b[0;36mExperiment.__call__\u001b[0;34m(self)\u001b[0m\n\u001b[1;32m    607\u001b[0m \u001b[38;5;28;01melse\u001b[39;00m:\n\u001b[1;32m    608\u001b[0m     \u001b[38;5;28;01mfor\u001b[39;00m job \u001b[38;5;129;01min\u001b[39;00m iterator:\n\u001b[0;32m--> 609\u001b[0m         \u001b[38;5;28;43mself\u001b[39;49m\u001b[38;5;241;43m.\u001b[39;49m\u001b[43mevaluate\u001b[49m\u001b[43m(\u001b[49m\u001b[38;5;241;43m*\u001b[39;49m\u001b[43mjob\u001b[49m\u001b[43m)\u001b[49m\n\u001b[1;32m    611\u001b[0m \u001b[38;5;28mself\u001b[39m\u001b[38;5;241m.\u001b[39mmerge_tmp_folders()\n\u001b[1;32m    613\u001b[0m \u001b[38;5;28;01mif\u001b[39;00m \u001b[38;5;28mself\u001b[39m\u001b[38;5;241m.\u001b[39mmerge_output:\n",
      "File \u001b[0;32m~/2025_S2/TA_Assignment_3/.venv/lib/python3.10/site-packages/ioh/__init__.py:468\u001b[0m, in \u001b[0;36mExperiment.evaluate\u001b[0;34m(self, ii, job)\u001b[0m\n\u001b[1;32m    465\u001b[0m \u001b[38;5;28;01mif\u001b[39;00m \u001b[38;5;28mself\u001b[39m\u001b[38;5;241m.\u001b[39menforce_bounds:\n\u001b[1;32m    466\u001b[0m     p\u001b[38;5;241m.\u001b[39menforce_bounds()\n\u001b[0;32m--> 468\u001b[0m \u001b[38;5;28;43mself\u001b[39;49m\u001b[38;5;241;43m.\u001b[39;49m\u001b[43mapply\u001b[49m\u001b[43m(\u001b[49m\u001b[43malgorithm\u001b[49m\u001b[43m,\u001b[49m\u001b[43m \u001b[49m\u001b[43mp\u001b[49m\u001b[43m)\u001b[49m\n",
      "File \u001b[0;32m~/2025_S2/TA_Assignment_3/.venv/lib/python3.10/site-packages/ioh/__init__.py:473\u001b[0m, in \u001b[0;36mExperiment.apply\u001b[0;34m(self, algorithm, problem)\u001b[0m\n\u001b[1;32m    471\u001b[0m \u001b[38;5;250m\u001b[39m\u001b[38;5;124;03m'''Apply a given algorithm to a problem'''\u001b[39;00m\n\u001b[1;32m    472\u001b[0m \u001b[38;5;28;01mfor\u001b[39;00m _ \u001b[38;5;129;01min\u001b[39;00m \u001b[38;5;28mrange\u001b[39m(\u001b[38;5;28mself\u001b[39m\u001b[38;5;241m.\u001b[39mreps):\n\u001b[0;32m--> 473\u001b[0m     \u001b[43malgorithm\u001b[49m\u001b[43m(\u001b[49m\u001b[43mproblem\u001b[49m\u001b[43m)\u001b[49m\n\u001b[1;32m    474\u001b[0m     problem\u001b[38;5;241m.\u001b[39mreset()\n",
      "File \u001b[0;32m~/2025_S2/TA_Assignment_3/final/code/algorithms/DesignedGA.py:131\u001b[0m, in \u001b[0;36m__call__\u001b[0;34m(self, func)\u001b[0m\n\u001b[1;32m     96\u001b[0m                 mutated[i][j] = 1 - mutated[i][j]\n\u001b[1;32m     97\u001b[0m     return mutated\n\u001b[1;32m     99\u001b[0m # def __call__(self, func: ioh.problem.PBO):\n\u001b[1;32m    100\u001b[0m \n\u001b[1;32m    101\u001b[0m #     n = func.meta_data.n_variables\n\u001b[1;32m    102\u001b[0m \n\u001b[1;32m    103\u001b[0m #     # Assure population size is even \n\u001b[1;32m    104\u001b[0m #     if (self.population_size % 2 != 0 or self.population_size < 1): \n\u001b[1;32m    105\u001b[0m #         print(\"Invalid population size. Must be even and non-zero\")\n\u001b[1;32m    106\u001b[0m #         return \n\u001b[1;32m    107\u001b[0m \n\u001b[1;32m    108\u001b[0m #     # Get optimum of the given problem \n\u001b[1;32m    109\u001b[0m #     if func.meta_data.problem_id == 18 and n == 32: # for a known problem instance\n\u001b[1;32m    110\u001b[0m #         optimum = 8\n\u001b[1;32m    111\u001b[0m #     else:\n\u001b[1;32m    112\u001b[0m #         optimum = func.optimum.y \n\u001b[1;32m    113\u001b[0m \n\u001b[1;32m    114\u001b[0m #     # Randomly initialise population of self.population_size individuals\n\u001b[1;32m    115\u001b[0m #     pop = [np.random.randint(2, size=n) for _ in range(self.population_size)]\n\u001b[1;32m    116\u001b[0m \n\u001b[1;32m    117\u001b[0m #     # fitness caching \n\u001b[1;32m    118\u001b[0m #     cached_fitness = {tuple(ind): func(ind.tolist()) for ind in pop}\n\u001b[1;32m    119\u001b[0m \n\u001b[1;32m    120\u001b[0m #     # Loop of function evaluations: \n\u001b[1;32m    121\u001b[0m #     while func.state.evaluations < self.budget:\n\u001b[1;32m    122\u001b[0m #         if func.state.optimum_found:  # break early if optimum is found\n\u001b[1;32m    123\u001b[0m #             break\n\u001b[1;32m    124\u001b[0m \n\u001b[1;32m    125\u001b[0m \n\u001b[1;32m    126\u001b[0m \n\u001b[1;32m    127\u001b[0m #         # Evaluate population for its optimum (i.e., the highest fitness/value of an individual in the population)\n\u001b[1;32m    128\u001b[0m #         fitnesses = [cached_fitness[tuple(ind)] for ind in pop]\n\u001b[1;32m    129\u001b[0m #         # best_idx = np.argmax(fitnesses)\n\u001b[1;32m    130\u001b[0m #         # best_idx2 = np.argmax(fitnesses.pop(best_idx))\n\u001b[0;32m--> 131\u001b[0m #         # Find best two individuals for elitism\n\u001b[1;32m    132\u001b[0m #         best_idx = np.argmax(fitnesses)\n\u001b[1;32m    133\u001b[0m #         best_individual = pop[best_idx]\n\u001b[1;32m    134\u001b[0m \n\u001b[1;32m    135\u001b[0m #         # Find second best (without modifying list)\n\u001b[1;32m    136\u001b[0m #         fitnesses_copy = fitnesses.copy()\n\u001b[1;32m    137\u001b[0m #         fitnesses_copy[best_idx] = -np.inf\n\u001b[1;32m    138\u001b[0m #         second_best_idx = np.argmax(fitnesses_copy)\n\u001b[1;32m    139\u001b[0m #         second_best_individual = pop[second_best_idx]\n\u001b[1;32m    140\u001b[0m \n\u001b[1;32m    141\u001b[0m #         # Define new population of parents by roulette wheel selection \n\u001b[1;32m    142\u001b[0m #         parent_pop = self.tournament_select(pop, fitnesses)\n\u001b[1;32m    143\u001b[0m \n\u001b[1;32m    144\u001b[0m #         # Assure elitism after selection for the next generation\n\u001b[1;32m    145\u001b[0m #         pop[0] = pop[best_idx]\n\u001b[1;32m    146\u001b[0m #         pop[1] = pop[second_best_idx]\n\u001b[1;32m    147\u001b[0m \n\u001b[1;32m    148\u001b[0m #         # Perform uniform crossover on each consecutive pair in the new parent population\n\u001b[1;32m    149\u001b[0m #         offspring_pop = self.uniform_crossover(func, parent_pop, n)\n\u001b[1;32m    150\u001b[0m \n\u001b[1;32m    151\u001b[0m #         # Mutate the resulting offspring by some probability 1.5/self.population_size\n\u001b[1;32m    152\u001b[0m #         m_offspring_pop = self.mutate(self.mutation_rate, offspring_pop, n)\n\u001b[1;32m    153\u001b[0m #         pop = m_offspring_pop # Redefine population\n\u001b[1;32m    156\u001b[0m def __call__(self, func: ioh.problem.PBO):\n\u001b[1;32m    157\u001b[0m     n = func.meta_data.n_variables\n",
      "File \u001b[0;32m~/2025_S2/TA_Assignment_3/final/code/algorithms/DesignedGA.py:60\u001b[0m, in \u001b[0;36muniform_crossover\u001b[0;34m(self, func, pop, n)\u001b[0m\n\u001b[1;32m     56\u001b[0m i = 0\n\u001b[1;32m     58\u001b[0m # Loop through each pair in the given parent population \n\u001b[1;32m     59\u001b[0m while i < len(pop) - 1: \n\u001b[0;32m---> 60\u001b[0m \n\u001b[1;32m     61\u001b[0m     # Initialise pair of offsprings \n\u001b[1;32m     62\u001b[0m     child1 = np.zeros(n, dtype = int)\n\u001b[1;32m     63\u001b[0m     child2 = np.zeros(n, dtype = int)\n",
      "File \u001b[0;32mnumpy/random/mtrand.pyx:998\u001b[0m, in \u001b[0;36mnumpy.random.mtrand.RandomState.choice\u001b[0;34m()\u001b[0m\n",
      "File \u001b[0;32mnumpy/random/mtrand.pyx:782\u001b[0m, in \u001b[0;36mnumpy.random.mtrand.RandomState.randint\u001b[0;34m()\u001b[0m\n",
      "File \u001b[0;32mnumpy/random/_bounded_integers.pyx:1315\u001b[0m, in \u001b[0;36mnumpy.random._bounded_integers._rand_int64\u001b[0;34m()\u001b[0m\n",
      "File \u001b[0;32m~/2025_S2/TA_Assignment_3/.venv/lib/python3.10/site-packages/numpy/core/fromnumeric.py:3100\u001b[0m, in \u001b[0;36mprod\u001b[0;34m(a, axis, dtype, out, keepdims, initial, where)\u001b[0m\n\u001b[1;32m   2979\u001b[0m \u001b[38;5;129m@array_function_dispatch\u001b[39m(_prod_dispatcher)\n\u001b[1;32m   2980\u001b[0m \u001b[38;5;28;01mdef\u001b[39;00m\u001b[38;5;250m \u001b[39m\u001b[38;5;21mprod\u001b[39m(a, axis\u001b[38;5;241m=\u001b[39m\u001b[38;5;28;01mNone\u001b[39;00m, dtype\u001b[38;5;241m=\u001b[39m\u001b[38;5;28;01mNone\u001b[39;00m, out\u001b[38;5;241m=\u001b[39m\u001b[38;5;28;01mNone\u001b[39;00m, keepdims\u001b[38;5;241m=\u001b[39mnp\u001b[38;5;241m.\u001b[39m_NoValue,\n\u001b[1;32m   2981\u001b[0m          initial\u001b[38;5;241m=\u001b[39mnp\u001b[38;5;241m.\u001b[39m_NoValue, where\u001b[38;5;241m=\u001b[39mnp\u001b[38;5;241m.\u001b[39m_NoValue):\n\u001b[1;32m   2982\u001b[0m \u001b[38;5;250m    \u001b[39m\u001b[38;5;124;03m\"\"\"\u001b[39;00m\n\u001b[1;32m   2983\u001b[0m \u001b[38;5;124;03m    Return the product of array elements over a given axis.\u001b[39;00m\n\u001b[1;32m   2984\u001b[0m \n\u001b[0;32m   (...)\u001b[0m\n\u001b[1;32m   3098\u001b[0m \u001b[38;5;124;03m    10\u001b[39;00m\n\u001b[1;32m   3099\u001b[0m \u001b[38;5;124;03m    \"\"\"\u001b[39;00m\n\u001b[0;32m-> 3100\u001b[0m     \u001b[38;5;28;01mreturn\u001b[39;00m \u001b[43m_wrapreduction\u001b[49m\u001b[43m(\u001b[49m\u001b[43ma\u001b[49m\u001b[43m,\u001b[49m\u001b[43m \u001b[49m\u001b[43mnp\u001b[49m\u001b[38;5;241;43m.\u001b[39;49m\u001b[43mmultiply\u001b[49m\u001b[43m,\u001b[49m\u001b[43m \u001b[49m\u001b[38;5;124;43m'\u001b[39;49m\u001b[38;5;124;43mprod\u001b[39;49m\u001b[38;5;124;43m'\u001b[39;49m\u001b[43m,\u001b[49m\u001b[43m \u001b[49m\u001b[43maxis\u001b[49m\u001b[43m,\u001b[49m\u001b[43m \u001b[49m\u001b[43mdtype\u001b[49m\u001b[43m,\u001b[49m\u001b[43m \u001b[49m\u001b[43mout\u001b[49m\u001b[43m,\u001b[49m\n\u001b[1;32m   3101\u001b[0m \u001b[43m                          \u001b[49m\u001b[43mkeepdims\u001b[49m\u001b[38;5;241;43m=\u001b[39;49m\u001b[43mkeepdims\u001b[49m\u001b[43m,\u001b[49m\u001b[43m \u001b[49m\u001b[43minitial\u001b[49m\u001b[38;5;241;43m=\u001b[39;49m\u001b[43minitial\u001b[49m\u001b[43m,\u001b[49m\u001b[43m \u001b[49m\u001b[43mwhere\u001b[49m\u001b[38;5;241;43m=\u001b[39;49m\u001b[43mwhere\u001b[49m\u001b[43m)\u001b[49m\n",
      "File \u001b[0;32m~/2025_S2/TA_Assignment_3/.venv/lib/python3.10/site-packages/numpy/core/fromnumeric.py:71\u001b[0m, in \u001b[0;36m_wrapreduction\u001b[0;34m(obj, ufunc, method, axis, dtype, out, **kwargs)\u001b[0m\n\u001b[1;32m     60\u001b[0m     \u001b[38;5;28;01mexcept\u001b[39;00m \u001b[38;5;167;01mTypeError\u001b[39;00m:\n\u001b[1;32m     61\u001b[0m         \u001b[38;5;66;03m# A TypeError occurs if the object does have such a method in its\u001b[39;00m\n\u001b[1;32m     62\u001b[0m         \u001b[38;5;66;03m# class, but its signature is not identical to that of NumPy's. This\u001b[39;00m\n\u001b[0;32m   (...)\u001b[0m\n\u001b[1;32m     66\u001b[0m         \u001b[38;5;66;03m# Call _wrapit from within the except clause to ensure a potential\u001b[39;00m\n\u001b[1;32m     67\u001b[0m         \u001b[38;5;66;03m# exception has a traceback chain.\u001b[39;00m\n\u001b[1;32m     68\u001b[0m         \u001b[38;5;28;01mreturn\u001b[39;00m _wrapit(obj, method, \u001b[38;5;241m*\u001b[39margs, \u001b[38;5;241m*\u001b[39m\u001b[38;5;241m*\u001b[39mkwds)\n\u001b[0;32m---> 71\u001b[0m \u001b[38;5;28;01mdef\u001b[39;00m\u001b[38;5;250m \u001b[39m\u001b[38;5;21m_wrapreduction\u001b[39m(obj, ufunc, method, axis, dtype, out, \u001b[38;5;241m*\u001b[39m\u001b[38;5;241m*\u001b[39mkwargs):\n\u001b[1;32m     72\u001b[0m     passkwargs \u001b[38;5;241m=\u001b[39m {k: v \u001b[38;5;28;01mfor\u001b[39;00m k, v \u001b[38;5;129;01min\u001b[39;00m kwargs\u001b[38;5;241m.\u001b[39mitems()\n\u001b[1;32m     73\u001b[0m                   \u001b[38;5;28;01mif\u001b[39;00m v \u001b[38;5;129;01mis\u001b[39;00m \u001b[38;5;129;01mnot\u001b[39;00m np\u001b[38;5;241m.\u001b[39m_NoValue}\n\u001b[1;32m     75\u001b[0m     \u001b[38;5;28;01mif\u001b[39;00m \u001b[38;5;28mtype\u001b[39m(obj) \u001b[38;5;129;01mis\u001b[39;00m \u001b[38;5;129;01mnot\u001b[39;00m mu\u001b[38;5;241m.\u001b[39mndarray:\n",
      "\u001b[0;31mKeyboardInterrupt\u001b[0m: "
     ]
    }
   ],
   "source": [
    "print(f\"=========== Running experiments for algorithm: {DesignedGA.name} ========== \")\n",
    "# start time \n",
    "start_time = time.process_time()\n",
    "# create a new experiment for the current algorithm \n",
    "experiment = ioh.Experiment(\n",
    "    algorithm=DesignedGA,\n",
    "    algorithm_name=DesignedGA.name,\n",
    "    algorithm_info=DesignedGA.algorithm_info,\n",
    "    fids = config.PROBLEM_IDS,\n",
    "    iids = [1], \n",
    "    dims=[config.DIMENSION],\n",
    "    reps=config.REPETITIONS,\n",
    "    problem_class=config.PROBLEMS_TYPE,  # Use the configured problem class # type: ignore\n",
    "    old_logger=False,  # type: ignore\n",
    "    output_directory=str(out_base),\n",
    "    folder_name=f\"ioh-data-{DesignedGA.name}\",\n",
    "    zip_output=True, \n",
    ")\n",
    "\n",
    "# run the experiment\n",
    "experiment.run()\n",
    "\n",
    "end_time = time.process_time()\n",
    "elapsed_time = end_time - start_time\n",
    "elapsed_times.append(elapsed_time)\n",
    "# convert to minutes \n",
    "elapsed_time = elapsed_time / 60    \n",
    "print(f\"Time taken for {DesignedGA.name}: {elapsed_time:.2f} minutes\")\n",
    "None "
   ]
  },
  {
   "cell_type": "code",
   "execution_count": null,
   "id": "1f5c4676",
   "metadata": {},
   "outputs": [],
   "source": []
  },
  {
   "cell_type": "code",
   "execution_count": null,
   "id": "6fbdc5d7",
   "metadata": {},
   "outputs": [],
   "source": []
  },
  {
   "cell_type": "code",
   "execution_count": null,
   "id": "807cbd58",
   "metadata": {},
   "outputs": [],
   "source": []
  },
  {
   "cell_type": "code",
   "execution_count": null,
   "id": "58314686",
   "metadata": {},
   "outputs": [],
   "source": []
  },
  {
   "cell_type": "code",
   "execution_count": null,
   "id": "d0105e33",
   "metadata": {},
   "outputs": [],
   "source": []
  },
  {
   "cell_type": "code",
   "execution_count": null,
   "id": "03b1a5dd",
   "metadata": {},
   "outputs": [],
   "source": []
  },
  {
   "cell_type": "code",
   "execution_count": null,
   "id": "d9f73e25",
   "metadata": {},
   "outputs": [],
   "source": []
  },
  {
   "cell_type": "code",
   "execution_count": null,
   "id": "f35cb0fa",
   "metadata": {},
   "outputs": [],
   "source": []
  }
 ],
 "metadata": {
  "kernelspec": {
   "display_name": ".venv",
   "language": "python",
   "name": "python3"
  },
  "language_info": {
   "codemirror_mode": {
    "name": "ipython",
    "version": 3
   },
   "file_extension": ".py",
   "mimetype": "text/x-python",
   "name": "python",
   "nbconvert_exporter": "python",
   "pygments_lexer": "ipython3",
   "version": "3.10.12"
  }
 },
 "nbformat": 4,
 "nbformat_minor": 5
}
