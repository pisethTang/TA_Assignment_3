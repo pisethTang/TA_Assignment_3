{
 "cells": [
  {
   "cell_type": "markdown",
   "id": "c6296a7b",
   "metadata": {},
   "source": [
    "<font color=\"yellow\"><b><u>NOTES:</u></b></font>\n",
    "\n",
    "<p>Just like in the previous exercise, this will act as a playground for testing and controlling the outputs of each algorithms and their running times.</p>"
   ]
  },
  {
   "cell_type": "code",
   "execution_count": 1,
   "id": "f75d162e",
   "metadata": {},
   "outputs": [],
   "source": [
    "import ioh \n",
    "import numpy as np\n",
    "from typing import Callable\n",
    "from pathlib import Path"
   ]
  },
  {
   "cell_type": "code",
   "execution_count": 19,
   "id": "356c6aa7",
   "metadata": {},
   "outputs": [],
   "source": [
    "# add parent directory to path for imports\n",
    "import sys\n",
    "import os\n",
    "import time \n",
    "\n",
    "# Add the path to sys.path\n",
    "code_path = os.path.abspath('../final/code')\n",
    "if code_path not in sys.path:\n",
    "    sys.path.insert(0, code_path)"
   ]
  },
  {
   "cell_type": "code",
   "execution_count": 15,
   "id": "c19dda03",
   "metadata": {},
   "outputs": [],
   "source": [
    "from algorithms import OnePlusOneEA, RandomizedLocalSearch, DesignedGA  \n",
    "from utilities.utilities import ensure_dir \n",
    "from utilities import config "
   ]
  },
  {
   "cell_type": "markdown",
   "id": "853577a0",
   "metadata": {},
   "source": [
    "<p>In this assignment, we consider 3 graph-based problems:</p>\n",
    "\n",
    "\n",
    "1. Max Coverage: Given an undirected weighted graph $G = (V, E)$ with a cost function $c: V \\to \\R_{\\geq 0}$. We denote $N(V') = \\{v_i\\hspace{1mm}|\\hspace{1mm}\\exists e \\in E: \\{e\\} \\cap V\\ \\neq \\empty \\text{ and } \\}$, the set of all nodes of $V'$ and their neighbors in $G$. Our goal is to maximize $f(x) = |N(V'(x))|$ under the constaint that $c(x) \\leq B$ holds, where $B$ is a given fixed budget (fitness evaluations).\n",
    "2. Max Influence: \n",
    "3. Pack While Travel: "
   ]
  },
  {
   "cell_type": "markdown",
   "id": "27999d2f",
   "metadata": {},
   "source": [
    "<p>Although we consider 3 problems, we will actually work with 11 instances of those problems! That is, according to the assignment specification, we will deal with the following instances:</p>\n",
    "\n",
    "\n",
    "<ol>\n",
    "<li>Max Coverage: 2100, 2101, 2102, 2103</li>\n",
    "<li>Max Influence: 2200, 2201, 2202, 2203</li>\n",
    "<li>PackWhileTravel: 2300, 2301, 2302</li>\n",
    "\n",
    "</ol>"
   ]
  },
  {
   "cell_type": "markdown",
   "id": "537e7a35",
   "metadata": {},
   "source": [
    "### <b><u>Exercise 1:</u></b>\n",
    "\n",
    "<p>Let us begin with the first exercise, which requires us to run RandomSearch, RLS, (1+1)-EA and our DesignedGA from Assignment 2 on the above (11) instances. This is doable ... after completing all 30 runs, where each run has a budget of 10K fitness evaluations, we arrive at the following, current, stats:</p>\n",
    "\n",
    "\n",
    "\n",
    "- Random Search ---> 244.76 seconds \n",
    "- (1+1)-EA ---> 354.18 seconds \n",
    "- RLS ---> 219.28 seconds\n",
    "- Designed GA ---> 5603.92 seconds\n"
   ]
  },
  {
   "cell_type": "code",
   "execution_count": 8,
   "id": "76522203",
   "metadata": {},
   "outputs": [
    {
     "name": "stdout",
     "output_type": "stream",
     "text": [
      "Algorithm\t\t\t\tTime (minutes)\n",
      "Random Search       \t\t           4.08\n",
      "(1+1)-EA            \t\t          59.24\n",
      "RLS                 \t\t           3.65\n",
      "Designed GA         \t\t          93.40\n"
     ]
    }
   ],
   "source": [
    "First_run_times = [244.76, 3554.18, 219.28, 5603.92]\n",
    "# convert to minutes \n",
    "First_run_times = [t / 60 for t in First_run_times]\n",
    "algorithms = [ \"Random Search\", \"(1+1)-EA\", \"RLS\", \"Designed GA\"]\n",
    "print(f\"Algorithm\\t\\t\\t\\tTime (minutes)\")\n",
    "for alg, t in zip(algorithms, First_run_times):\n",
    "    print(f\"{alg:<20}\\t\\t{t:>15.2f}\")"
   ]
  },
  {
   "cell_type": "code",
   "execution_count": 11,
   "id": "92440429",
   "metadata": {},
   "outputs": [
    {
     "name": "stdout",
     "output_type": "stream",
     "text": [
      "Total time for all algorithms: 2 hours and 40 minutes\n"
     ]
    }
   ],
   "source": [
    "# convert to hours and minutes \n",
    "total_time = sum(First_run_times) / 60\n",
    "hours = int(total_time)\n",
    "minutes = int((total_time - hours) * 60)\n",
    "print(f\"Total time for all algorithms: {hours} hours and {minutes} minutes\")"
   ]
  },
  {
   "cell_type": "markdown",
   "id": "6eed531e",
   "metadata": {},
   "source": [
    "<p>After some more optimizations ... </p>"
   ]
  },
  {
   "cell_type": "code",
   "execution_count": null,
   "id": "578058d8",
   "metadata": {},
   "outputs": [],
   "source": [
    "elapsed_times = []\n",
    "out_base = ensure_dir(Path(__file__).parent.parent.parent /\"doc\" / \"data\")\n"
   ]
  },
  {
   "cell_type": "code",
   "execution_count": null,
   "id": "9afc791a",
   "metadata": {},
   "outputs": [],
   "source": [
    "\n",
    "for algorithm in config.ALGORITHMS:\n",
    "    print(f\"=========== Running experiments for algorithm: {algorithm.name} ========== \")\n",
    "    # start time \n",
    "    start_time = time.process_time()\n",
    "    # create a new experiment for the current algorithm \n",
    "    experiment = ioh.Experiment(\n",
    "        algorithm=algorithm,\n",
    "        algorithm_name=algorithm.name,\n",
    "        algorithm_info=algorithm.algorithm_info,\n",
    "        fids = config.PROBLEM_IDS,\n",
    "        iids = [1], \n",
    "        dims=[config.DIMENSION],\n",
    "        reps=config.REPETITIONS,\n",
    "        problem_class=config.PROBLEMS_TYPE,  # Use the configured problem class # type: ignore\n",
    "        old_logger=False,  # type: ignore\n",
    "        output_directory=str(out_base),\n",
    "        # folder_name=f\"ioh-data-{algorithm.name}-{algorithm.evaporation_rate}\", ======= This is temp for MMAS family only\n",
    "        folder_name=f\"ioh-data-{algorithm.name}\",\n",
    "        zip_output=True, \n",
    "    )"
   ]
  },
  {
   "cell_type": "code",
   "execution_count": null,
   "id": "3dba32bc",
   "metadata": {},
   "outputs": [],
   "source": []
  },
  {
   "cell_type": "code",
   "execution_count": null,
   "id": "f7b34cb2",
   "metadata": {},
   "outputs": [],
   "source": []
  },
  {
   "cell_type": "code",
   "execution_count": null,
   "id": "57db2749",
   "metadata": {},
   "outputs": [],
   "source": []
  }
 ],
 "metadata": {
  "kernelspec": {
   "display_name": ".venv",
   "language": "python",
   "name": "python3"
  },
  "language_info": {
   "codemirror_mode": {
    "name": "ipython",
    "version": 3
   },
   "file_extension": ".py",
   "mimetype": "text/x-python",
   "name": "python",
   "nbconvert_exporter": "python",
   "pygments_lexer": "ipython3",
   "version": "3.10.12"
  }
 },
 "nbformat": 4,
 "nbformat_minor": 5
}
